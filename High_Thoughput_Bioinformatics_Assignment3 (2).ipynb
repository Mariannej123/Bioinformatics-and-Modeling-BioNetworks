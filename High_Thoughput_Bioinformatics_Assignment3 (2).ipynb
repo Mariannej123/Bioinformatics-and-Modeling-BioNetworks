{
 "cells": [
  {
   "cell_type": "code",
   "execution_count": 1,
   "id": "1bb7f6c8-3e98-4a6b-b88a-2de6dd0f1866",
   "metadata": {
    "tags": []
   },
   "outputs": [
    {
     "name": "stderr",
     "output_type": "stream",
     "text": [
      "Loading required package: S4Vectors\n",
      "\n",
      "Loading required package: stats4\n",
      "\n",
      "Loading required package: BiocGenerics\n",
      "\n",
      "\n",
      "Attaching package: ‘BiocGenerics’\n",
      "\n",
      "\n",
      "The following objects are masked from ‘package:stats’:\n",
      "\n",
      "    IQR, mad, sd, var, xtabs\n",
      "\n",
      "\n",
      "The following objects are masked from ‘package:base’:\n",
      "\n",
      "    anyDuplicated, aperm, append, as.data.frame, basename, cbind,\n",
      "    colnames, dirname, do.call, duplicated, eval, evalq, Filter, Find,\n",
      "    get, grep, grepl, intersect, is.unsorted, lapply, Map, mapply,\n",
      "    match, mget, order, paste, pmax, pmax.int, pmin, pmin.int,\n",
      "    Position, rank, rbind, Reduce, rownames, sapply, setdiff, sort,\n",
      "    table, tapply, union, unique, unsplit, which.max, which.min\n",
      "\n",
      "\n",
      "\n",
      "Attaching package: ‘S4Vectors’\n",
      "\n",
      "\n",
      "The following object is masked from ‘package:utils’:\n",
      "\n",
      "    findMatches\n",
      "\n",
      "\n",
      "The following objects are masked from ‘package:base’:\n",
      "\n",
      "    expand.grid, I, unname\n",
      "\n",
      "\n",
      "Loading required package: IRanges\n",
      "\n",
      "Loading required package: GenomicRanges\n",
      "\n",
      "Loading required package: GenomeInfoDb\n",
      "\n",
      "Loading required package: SummarizedExperiment\n",
      "\n",
      "Loading required package: MatrixGenerics\n",
      "\n",
      "Loading required package: matrixStats\n",
      "\n",
      "\n",
      "Attaching package: ‘MatrixGenerics’\n",
      "\n",
      "\n",
      "The following objects are masked from ‘package:matrixStats’:\n",
      "\n",
      "    colAlls, colAnyNAs, colAnys, colAvgsPerRowSet, colCollapse,\n",
      "    colCounts, colCummaxs, colCummins, colCumprods, colCumsums,\n",
      "    colDiffs, colIQRDiffs, colIQRs, colLogSumExps, colMadDiffs,\n",
      "    colMads, colMaxs, colMeans2, colMedians, colMins, colOrderStats,\n",
      "    colProds, colQuantiles, colRanges, colRanks, colSdDiffs, colSds,\n",
      "    colSums2, colTabulates, colVarDiffs, colVars, colWeightedMads,\n",
      "    colWeightedMeans, colWeightedMedians, colWeightedSds,\n",
      "    colWeightedVars, rowAlls, rowAnyNAs, rowAnys, rowAvgsPerColSet,\n",
      "    rowCollapse, rowCounts, rowCummaxs, rowCummins, rowCumprods,\n",
      "    rowCumsums, rowDiffs, rowIQRDiffs, rowIQRs, rowLogSumExps,\n",
      "    rowMadDiffs, rowMads, rowMaxs, rowMeans2, rowMedians, rowMins,\n",
      "    rowOrderStats, rowProds, rowQuantiles, rowRanges, rowRanks,\n",
      "    rowSdDiffs, rowSds, rowSums2, rowTabulates, rowVarDiffs, rowVars,\n",
      "    rowWeightedMads, rowWeightedMeans, rowWeightedMedians,\n",
      "    rowWeightedSds, rowWeightedVars\n",
      "\n",
      "\n",
      "Loading required package: Biobase\n",
      "\n",
      "Welcome to Bioconductor\n",
      "\n",
      "    Vignettes contain introductory material; view with\n",
      "    'browseVignettes()'. To cite Bioconductor, see\n",
      "    'citation(\"Biobase\")', and for packages 'citation(\"pkgname\")'.\n",
      "\n",
      "\n",
      "\n",
      "Attaching package: ‘Biobase’\n",
      "\n",
      "\n",
      "The following object is masked from ‘package:MatrixGenerics’:\n",
      "\n",
      "    rowMedians\n",
      "\n",
      "\n",
      "The following objects are masked from ‘package:matrixStats’:\n",
      "\n",
      "    anyMissing, rowMedians\n",
      "\n",
      "\n",
      "Loading required package: Formula\n",
      "\n",
      "\n",
      "Attaching package: ‘limma’\n",
      "\n",
      "\n",
      "The following object is masked from ‘package:BiocGenerics’:\n",
      "\n",
      "    plotMA\n",
      "\n",
      "\n"
     ]
    },
    {
     "data": {
      "text/plain": [
       "class: BSraw \n",
       "dim: 963 4 \n",
       "metadata(0):\n",
       "assays(2): totalReads methReads\n",
       "rownames: NULL\n",
       "rowData names(0):\n",
       "colnames(4): sample1 sample2 sample3 sample4\n",
       "colData names(1): group"
      ]
     },
     "metadata": {},
     "output_type": "display_data"
    }
   ],
   "source": [
    "library(BiSeq)\n",
    "library(aods3)\n",
    "library(limma)\n",
    "\n",
    "# load RRBS data \n",
    "load('rrbsData.RData') \n",
    "rrbs"
   ]
  },
  {
   "cell_type": "code",
   "execution_count": 2,
   "id": "d9171d36-798a-4d5d-89dc-febb029a92ac",
   "metadata": {
    "tags": []
   },
   "outputs": [
    {
     "data": {
      "text/plain": [
       "DataFrame with 4 rows and 1 column\n",
       "              group\n",
       "        <character>\n",
       "sample1   treatment\n",
       "sample2   treatment\n",
       "sample3     control\n",
       "sample4     control"
      ]
     },
     "metadata": {},
     "output_type": "display_data"
    }
   ],
   "source": [
    "colData(rrbs)"
   ]
  },
  {
   "cell_type": "code",
   "execution_count": 3,
   "id": "8f032d25-e7ca-4316-98d2-65824e89860a",
   "metadata": {
    "tags": []
   },
   "outputs": [
    {
     "data": {
      "text/html": [
       "<table class=\"dataframe\">\n",
       "<caption>A matrix: 6 × 4 of type int</caption>\n",
       "<thead>\n",
       "\t<tr><th scope=col>sample1</th><th scope=col>sample2</th><th scope=col>sample3</th><th scope=col>sample4</th></tr>\n",
       "</thead>\n",
       "<tbody>\n",
       "\t<tr><td>17</td><td>333</td><td>18</td><td>395</td></tr>\n",
       "\t<tr><td>17</td><td>329</td><td>16</td><td>379</td></tr>\n",
       "\t<tr><td>39</td><td> 83</td><td>83</td><td> 41</td></tr>\n",
       "\t<tr><td>68</td><td>111</td><td>23</td><td> 37</td></tr>\n",
       "\t<tr><td>68</td><td>111</td><td>23</td><td> 37</td></tr>\n",
       "\t<tr><td>68</td><td>111</td><td>22</td><td> 37</td></tr>\n",
       "</tbody>\n",
       "</table>\n"
      ],
      "text/latex": [
       "A matrix: 6 × 4 of type int\n",
       "\\begin{tabular}{llll}\n",
       " sample1 & sample2 & sample3 & sample4\\\\\n",
       "\\hline\n",
       "\t 17 & 333 & 18 & 395\\\\\n",
       "\t 17 & 329 & 16 & 379\\\\\n",
       "\t 39 &  83 & 83 &  41\\\\\n",
       "\t 68 & 111 & 23 &  37\\\\\n",
       "\t 68 & 111 & 23 &  37\\\\\n",
       "\t 68 & 111 & 22 &  37\\\\\n",
       "\\end{tabular}\n"
      ],
      "text/markdown": [
       "\n",
       "A matrix: 6 × 4 of type int\n",
       "\n",
       "| sample1 | sample2 | sample3 | sample4 |\n",
       "|---|---|---|---|\n",
       "| 17 | 333 | 18 | 395 |\n",
       "| 17 | 329 | 16 | 379 |\n",
       "| 39 |  83 | 83 |  41 |\n",
       "| 68 | 111 | 23 |  37 |\n",
       "| 68 | 111 | 23 |  37 |\n",
       "| 68 | 111 | 22 |  37 |\n",
       "\n"
      ],
      "text/plain": [
       "     sample1 sample2 sample3 sample4\n",
       "[1,] 17      333     18      395    \n",
       "[2,] 17      329     16      379    \n",
       "[3,] 39       83     83       41    \n",
       "[4,] 68      111     23       37    \n",
       "[5,] 68      111     23       37    \n",
       "[6,] 68      111     22       37    "
      ]
     },
     "metadata": {},
     "output_type": "display_data"
    }
   ],
   "source": [
    "head(totalReads(rrbs))\n"
   ]
  },
  {
   "cell_type": "code",
   "execution_count": 4,
   "id": "23fe85fa-c241-4c9e-9341-2e977ffd5001",
   "metadata": {
    "tags": []
   },
   "outputs": [
    {
     "data": {
      "text/html": [
       "<table class=\"dataframe\">\n",
       "<caption>A matrix: 6 × 4 of type int</caption>\n",
       "<thead>\n",
       "\t<tr><th scope=col>sample1</th><th scope=col>sample2</th><th scope=col>sample3</th><th scope=col>sample4</th></tr>\n",
       "</thead>\n",
       "<tbody>\n",
       "\t<tr><td>10</td><td>268</td><td>16</td><td>341</td></tr>\n",
       "\t<tr><td>12</td><td>249</td><td>14</td><td>284</td></tr>\n",
       "\t<tr><td>38</td><td> 78</td><td>83</td><td> 40</td></tr>\n",
       "\t<tr><td>42</td><td> 97</td><td>18</td><td> 33</td></tr>\n",
       "\t<tr><td>52</td><td>104</td><td>14</td><td> 27</td></tr>\n",
       "\t<tr><td>59</td><td>109</td><td>18</td><td> 29</td></tr>\n",
       "</tbody>\n",
       "</table>\n"
      ],
      "text/latex": [
       "A matrix: 6 × 4 of type int\n",
       "\\begin{tabular}{llll}\n",
       " sample1 & sample2 & sample3 & sample4\\\\\n",
       "\\hline\n",
       "\t 10 & 268 & 16 & 341\\\\\n",
       "\t 12 & 249 & 14 & 284\\\\\n",
       "\t 38 &  78 & 83 &  40\\\\\n",
       "\t 42 &  97 & 18 &  33\\\\\n",
       "\t 52 & 104 & 14 &  27\\\\\n",
       "\t 59 & 109 & 18 &  29\\\\\n",
       "\\end{tabular}\n"
      ],
      "text/markdown": [
       "\n",
       "A matrix: 6 × 4 of type int\n",
       "\n",
       "| sample1 | sample2 | sample3 | sample4 |\n",
       "|---|---|---|---|\n",
       "| 10 | 268 | 16 | 341 |\n",
       "| 12 | 249 | 14 | 284 |\n",
       "| 38 |  78 | 83 |  40 |\n",
       "| 42 |  97 | 18 |  33 |\n",
       "| 52 | 104 | 14 |  27 |\n",
       "| 59 | 109 | 18 |  29 |\n",
       "\n"
      ],
      "text/plain": [
       "     sample1 sample2 sample3 sample4\n",
       "[1,] 10      268     16      341    \n",
       "[2,] 12      249     14      284    \n",
       "[3,] 38       78     83       40    \n",
       "[4,] 42       97     18       33    \n",
       "[5,] 52      104     14       27    \n",
       "[6,] 59      109     18       29    "
      ]
     },
     "metadata": {},
     "output_type": "display_data"
    }
   ],
   "source": [
    "head(methReads(rrbs))\n"
   ]
  },
  {
   "cell_type": "code",
   "execution_count": 5,
   "id": "334eb52a-82f6-429e-8163-4a5d32777b56",
   "metadata": {
    "tags": []
   },
   "outputs": [
    {
     "data": {
      "image/png": "[encoded data removed]",
      "text/plain": [
       "plot without title"
      ]
     },
     "metadata": {
      "image/png": {
       "height": 420,
       "width": 420
      }
     },
     "output_type": "display_data"
    }
   ],
   "source": [
    "covBoxplots(rrbs,col = \"cornflowerblue\", las = 2)"
   ]
  },
  {
   "cell_type": "code",
   "execution_count": 2,
   "id": "ab64e215-367d-4965-841f-a784ea13e23f",
   "metadata": {
    "tags": []
   },
   "outputs": [
    {
     "data": {
      "text/plain": [
       "class: BSraw \n",
       "dim: 854 4 \n",
       "metadata(0):\n",
       "assays(2): totalReads methReads\n",
       "rownames: NULL\n",
       "rowData names(0):\n",
       "colnames(4): sample1 sample2 sample3 sample4\n",
       "colData names(1): group"
      ]
     },
     "metadata": {},
     "output_type": "display_data"
    }
   ],
   "source": [
    "# filter data to include only loci that have minimum 11x coverage in all samples\n",
    "total_reads <- totalReads(rrbs)\n",
    "coverage_filter <- total_reads >= 11 \n",
    "rrbs2 <- rrbs[rowSums(coverage_filter) == ncol(total_reads), ]\n",
    "rrbs2"
   ]
  },
  {
   "cell_type": "markdown",
   "id": "9faf47dd-d4b0-4673-8596-3e74abfa6b50",
   "metadata": {},
   "source": [
    "2. Compute the estimated methylation fraction for each locus and for each sample. Plot a histogram of the methylation fractions for each sample.\n",
    "Comment on the distribution."
   ]
  },
  {
   "cell_type": "code",
   "execution_count": 3,
   "id": "e418253b-7f75-4912-baa0-80da7feb4dc3",
   "metadata": {
    "tags": []
   },
   "outputs": [
    {
     "data": {
      "image/png": "[encoded data removed]",
      "text/plain": [
       "Plot with title “Sample 4”"
      ]
     },
     "metadata": {
      "image/png": {
       "height": 420,
       "width": 420
      }
     },
     "output_type": "display_data"
    }
   ],
   "source": [
    "# Compute the estimated methylation fraction for each locus and for each sample\n",
    "meth_reads <- methReads(rrbs2)\n",
    "total_reads <- totalReads(rrbs2)\n",
    "meth_fraction <- meth_reads / total_reads\n",
    "\n",
    "\n",
    "# generate a histogram plot of the methylation fractions \n",
    "#(one histogram plot for each sample).\n",
    "#Hints par(mar=c(2,2,2,2)) par(mfrow=c(2,2)), hist(), pdf(\"meth-fractions.pdf\")... dev.off()\n",
    "#XXX\n",
    "#pdf(\"meth-fractions.pdf\")\n",
    "par(mar = c(2, 2, 2, 2))\n",
    "par(mfrow = c(2, 2))\n",
    "for (i in 1:ncol(meth_fraction)) {\n",
    "  hist(meth_fraction[, i], main = paste(\"Sample\", i), xlab = \"Methylation Fraction\")\n",
    "}\n",
    "#dev.off()\n"
   ]
  },
  {
   "cell_type": "code",
   "execution_count": 4,
   "id": "d932fab7-0e6b-4cac-ac0d-df25d641838d",
   "metadata": {
    "collapsed": true,
    "jupyter": {
     "outputs_hidden": true,
     "source_hidden": true
    },
    "tags": []
   },
   "outputs": [
    {
     "data": {
      "text/html": [
       "<table class=\"dataframe\">\n",
       "<caption>A matrix: 854 × 4 of type dbl</caption>\n",
       "<thead>\n",
       "\t<tr><th scope=col>sample1</th><th scope=col>sample2</th><th scope=col>sample3</th><th scope=col>sample4</th></tr>\n",
       "</thead>\n",
       "<tbody>\n",
       "\t<tr><td>0.58823529</td><td>0.8048048</td><td>0.8888889</td><td>0.8632911</td></tr>\n",
       "\t<tr><td>0.70588235</td><td>0.7568389</td><td>0.8750000</td><td>0.7493404</td></tr>\n",
       "\t<tr><td>0.97435897</td><td>0.9397590</td><td>1.0000000</td><td>0.9756098</td></tr>\n",
       "\t<tr><td>0.61764706</td><td>0.8738739</td><td>0.7826087</td><td>0.8918919</td></tr>\n",
       "\t<tr><td>0.76470588</td><td>0.9369369</td><td>0.6086957</td><td>0.7297297</td></tr>\n",
       "\t<tr><td>0.86764706</td><td>0.9819820</td><td>0.8181818</td><td>0.7837838</td></tr>\n",
       "\t<tr><td>0.82352941</td><td>0.7946429</td><td>0.6956522</td><td>0.6470588</td></tr>\n",
       "\t<tr><td>0.08955224</td><td>0.1250000</td><td>0.0000000</td><td>0.0000000</td></tr>\n",
       "\t<tr><td>0.92647059</td><td>0.8518519</td><td>0.9565217</td><td>0.8529412</td></tr>\n",
       "\t<tr><td>0.80952381</td><td>0.9666667</td><td>1.0000000</td><td>0.9230769</td></tr>\n",
       "\t<tr><td>0.57142857</td><td>0.9333333</td><td>0.3783784</td><td>0.4230769</td></tr>\n",
       "\t<tr><td>0.42857143</td><td>0.8833333</td><td>0.4102564</td><td>0.5769231</td></tr>\n",
       "\t<tr><td>0.46153846</td><td>0.8113208</td><td>0.2666667</td><td>0.4347826</td></tr>\n",
       "\t<tr><td>0.21428571</td><td>0.9024390</td><td>0.7600000</td><td>0.9047619</td></tr>\n",
       "\t<tr><td>0.92857143</td><td>1.0000000</td><td>0.9333333</td><td>0.9090909</td></tr>\n",
       "\t<tr><td>0.71428571</td><td>0.8292683</td><td>0.7142857</td><td>0.6363636</td></tr>\n",
       "\t<tr><td>0.28571429</td><td>0.1500000</td><td>0.0000000</td><td>0.0000000</td></tr>\n",
       "\t<tr><td>0.66666667</td><td>0.8048780</td><td>0.2666667</td><td>0.3181818</td></tr>\n",
       "\t<tr><td>0.07142857</td><td>0.4146341</td><td>0.1538462</td><td>0.3636364</td></tr>\n",
       "\t<tr><td>0.00000000</td><td>0.1500000</td><td>0.0000000</td><td>0.0000000</td></tr>\n",
       "\t<tr><td>0.72222222</td><td>0.9024390</td><td>0.9117647</td><td>1.0000000</td></tr>\n",
       "\t<tr><td>0.85714286</td><td>0.9000000</td><td>0.9393939</td><td>0.9285714</td></tr>\n",
       "\t<tr><td>0.29411765</td><td>0.5500000</td><td>1.0000000</td><td>0.7857143</td></tr>\n",
       "\t<tr><td>0.05405405</td><td>0.3809524</td><td>0.9186047</td><td>0.6250000</td></tr>\n",
       "\t<tr><td>0.31147541</td><td>0.6120690</td><td>0.7777778</td><td>0.8064516</td></tr>\n",
       "\t<tr><td>0.38636364</td><td>0.4915254</td><td>0.9423077</td><td>0.6750000</td></tr>\n",
       "\t<tr><td>0.46153846</td><td>0.5789474</td><td>0.9487179</td><td>0.8205128</td></tr>\n",
       "\t<tr><td>0.68000000</td><td>0.8961039</td><td>1.0000000</td><td>0.8974359</td></tr>\n",
       "\t<tr><td>1.00000000</td><td>0.9220779</td><td>1.0000000</td><td>0.9230769</td></tr>\n",
       "\t<tr><td>0.00000000</td><td>0.5154639</td><td>0.8813559</td><td>0.4516129</td></tr>\n",
       "\t<tr><td>⋮</td><td>⋮</td><td>⋮</td><td>⋮</td></tr>\n",
       "\t<tr><td>0.55855856</td><td>0.53125000</td><td>0.00000000</td><td>0.0000000</td></tr>\n",
       "\t<tr><td>0.31896552</td><td>0.64516129</td><td>0.06896552</td><td>0.0000000</td></tr>\n",
       "\t<tr><td>0.03603604</td><td>0.03571429</td><td>0.00000000</td><td>0.0000000</td></tr>\n",
       "\t<tr><td>0.14529915</td><td>0.64516129</td><td>0.13793103</td><td>0.0000000</td></tr>\n",
       "\t<tr><td>1.00000000</td><td>0.74285714</td><td>1.00000000</td><td>1.0000000</td></tr>\n",
       "\t<tr><td>0.85714286</td><td>0.88571429</td><td>1.00000000</td><td>0.8076923</td></tr>\n",
       "\t<tr><td>1.00000000</td><td>0.92187500</td><td>0.95238095</td><td>0.9583333</td></tr>\n",
       "\t<tr><td>1.00000000</td><td>0.79032258</td><td>0.94736842</td><td>0.8695652</td></tr>\n",
       "\t<tr><td>0.66666667</td><td>0.15384615</td><td>1.00000000</td><td>1.0000000</td></tr>\n",
       "\t<tr><td>0.61111111</td><td>0.30769231</td><td>0.86956522</td><td>1.0000000</td></tr>\n",
       "\t<tr><td>0.66666667</td><td>0.64864865</td><td>1.00000000</td><td>0.9444444</td></tr>\n",
       "\t<tr><td>0.57142857</td><td>0.88135593</td><td>0.98630137</td><td>0.9600000</td></tr>\n",
       "\t<tr><td>0.64285714</td><td>0.81355932</td><td>0.93150685</td><td>1.0000000</td></tr>\n",
       "\t<tr><td>0.66666667</td><td>0.82500000</td><td>0.97058824</td><td>1.0000000</td></tr>\n",
       "\t<tr><td>1.00000000</td><td>0.94871795</td><td>0.76470588</td><td>1.0000000</td></tr>\n",
       "\t<tr><td>0.43478261</td><td>0.91428571</td><td>0.85000000</td><td>1.0000000</td></tr>\n",
       "\t<tr><td>0.88000000</td><td>0.97619048</td><td>1.00000000</td><td>1.0000000</td></tr>\n",
       "\t<tr><td>1.00000000</td><td>0.90909091</td><td>1.00000000</td><td>0.9583333</td></tr>\n",
       "\t<tr><td>0.93333333</td><td>1.00000000</td><td>0.68421053</td><td>0.7647059</td></tr>\n",
       "\t<tr><td>0.95454545</td><td>0.96551724</td><td>1.00000000</td><td>1.0000000</td></tr>\n",
       "\t<tr><td>1.00000000</td><td>0.96428571</td><td>1.00000000</td><td>1.0000000</td></tr>\n",
       "\t<tr><td>1.00000000</td><td>1.00000000</td><td>0.95000000</td><td>1.0000000</td></tr>\n",
       "\t<tr><td>1.00000000</td><td>1.00000000</td><td>0.80952381</td><td>1.0000000</td></tr>\n",
       "\t<tr><td>1.00000000</td><td>0.96551724</td><td>1.00000000</td><td>1.0000000</td></tr>\n",
       "\t<tr><td>0.93478261</td><td>0.96551724</td><td>1.00000000</td><td>1.0000000</td></tr>\n",
       "\t<tr><td>0.96296296</td><td>0.89473684</td><td>1.00000000</td><td>1.0000000</td></tr>\n",
       "\t<tr><td>1.00000000</td><td>1.00000000</td><td>1.00000000</td><td>0.9166667</td></tr>\n",
       "\t<tr><td>1.00000000</td><td>0.83333333</td><td>1.00000000</td><td>1.0000000</td></tr>\n",
       "\t<tr><td>1.00000000</td><td>0.93750000</td><td>0.96153846</td><td>0.9166667</td></tr>\n",
       "\t<tr><td>0.91666667</td><td>1.00000000</td><td>1.00000000</td><td>0.8888889</td></tr>\n",
       "</tbody>\n",
       "</table>\n"
      ],
      "text/latex": [
       "A matrix: 854 × 4 of type dbl\n",
       "\\begin{tabular}{llll}\n",
       " sample1 & sample2 & sample3 & sample4\\\\\n",
       "\\hline\n",
       "\t 0.58823529 & 0.8048048 & 0.8888889 & 0.8632911\\\\\n",
       "\t 0.70588235 & 0.7568389 & 0.8750000 & 0.7493404\\\\\n",
       "\t 0.97435897 & 0.9397590 & 1.0000000 & 0.9756098\\\\\n",
       "\t 0.61764706 & 0.8738739 & 0.7826087 & 0.8918919\\\\\n",
       "\t 0.76470588 & 0.9369369 & 0.6086957 & 0.7297297\\\\\n",
       "\t 0.86764706 & 0.9819820 & 0.8181818 & 0.7837838\\\\\n",
       "\t 0.82352941 & 0.7946429 & 0.6956522 & 0.6470588\\\\\n",
       "\t 0.08955224 & 0.1250000 & 0.0000000 & 0.0000000\\\\\n",
       "\t 0.92647059 & 0.8518519 & 0.9565217 & 0.8529412\\\\\n",
       "\t 0.80952381 & 0.9666667 & 1.0000000 & 0.9230769\\\\\n",
       "\t 0.57142857 & 0.9333333 & 0.3783784 & 0.4230769\\\\\n",
       "\t 0.42857143 & 0.8833333 & 0.4102564 & 0.5769231\\\\\n",
       "\t 0.46153846 & 0.8113208 & 0.2666667 & 0.4347826\\\\\n",
       "\t 0.21428571 & 0.9024390 & 0.7600000 & 0.9047619\\\\\n",
       "\t 0.92857143 & 1.0000000 & 0.9333333 & 0.9090909\\\\\n",
       "\t 0.71428571 & 0.8292683 & 0.7142857 & 0.6363636\\\\\n",
       "\t 0.28571429 & 0.1500000 & 0.0000000 & 0.0000000\\\\\n",
       "\t 0.66666667 & 0.8048780 & 0.2666667 & 0.3181818\\\\\n",
       "\t 0.07142857 & 0.4146341 & 0.1538462 & 0.3636364\\\\\n",
       "\t 0.00000000 & 0.1500000 & 0.0000000 & 0.0000000\\\\\n",
       "\t 0.72222222 & 0.9024390 & 0.9117647 & 1.0000000\\\\\n",
       "\t 0.85714286 & 0.9000000 & 0.9393939 & 0.9285714\\\\\n",
       "\t 0.29411765 & 0.5500000 & 1.0000000 & 0.7857143\\\\\n",
       "\t 0.05405405 & 0.3809524 & 0.9186047 & 0.6250000\\\\\n",
       "\t 0.31147541 & 0.6120690 & 0.7777778 & 0.8064516\\\\\n",
       "\t 0.38636364 & 0.4915254 & 0.9423077 & 0.6750000\\\\\n",
       "\t 0.46153846 & 0.5789474 & 0.9487179 & 0.8205128\\\\\n",
       "\t 0.68000000 & 0.8961039 & 1.0000000 & 0.8974359\\\\\n",
       "\t 1.00000000 & 0.9220779 & 1.0000000 & 0.9230769\\\\\n",
       "\t 0.00000000 & 0.5154639 & 0.8813559 & 0.4516129\\\\\n",
       "\t ⋮ & ⋮ & ⋮ & ⋮\\\\\n",
       "\t 0.55855856 & 0.53125000 & 0.00000000 & 0.0000000\\\\\n",
       "\t 0.31896552 & 0.64516129 & 0.06896552 & 0.0000000\\\\\n",
       "\t 0.03603604 & 0.03571429 & 0.00000000 & 0.0000000\\\\\n",
       "\t 0.14529915 & 0.64516129 & 0.13793103 & 0.0000000\\\\\n",
       "\t 1.00000000 & 0.74285714 & 1.00000000 & 1.0000000\\\\\n",
       "\t 0.85714286 & 0.88571429 & 1.00000000 & 0.8076923\\\\\n",
       "\t 1.00000000 & 0.92187500 & 0.95238095 & 0.9583333\\\\\n",
       "\t 1.00000000 & 0.79032258 & 0.94736842 & 0.8695652\\\\\n",
       "\t 0.66666667 & 0.15384615 & 1.00000000 & 1.0000000\\\\\n",
       "\t 0.61111111 & 0.30769231 & 0.86956522 & 1.0000000\\\\\n",
       "\t 0.66666667 & 0.64864865 & 1.00000000 & 0.9444444\\\\\n",
       "\t 0.57142857 & 0.88135593 & 0.98630137 & 0.9600000\\\\\n",
       "\t 0.64285714 & 0.81355932 & 0.93150685 & 1.0000000\\\\\n",
       "\t 0.66666667 & 0.82500000 & 0.97058824 & 1.0000000\\\\\n",
       "\t 1.00000000 & 0.94871795 & 0.76470588 & 1.0000000\\\\\n",
       "\t 0.43478261 & 0.91428571 & 0.85000000 & 1.0000000\\\\\n",
       "\t 0.88000000 & 0.97619048 & 1.00000000 & 1.0000000\\\\\n",
       "\t 1.00000000 & 0.90909091 & 1.00000000 & 0.9583333\\\\\n",
       "\t 0.93333333 & 1.00000000 & 0.68421053 & 0.7647059\\\\\n",
       "\t 0.95454545 & 0.96551724 & 1.00000000 & 1.0000000\\\\\n",
       "\t 1.00000000 & 0.96428571 & 1.00000000 & 1.0000000\\\\\n",
       "\t 1.00000000 & 1.00000000 & 0.95000000 & 1.0000000\\\\\n",
       "\t 1.00000000 & 1.00000000 & 0.80952381 & 1.0000000\\\\\n",
       "\t 1.00000000 & 0.96551724 & 1.00000000 & 1.0000000\\\\\n",
       "\t 0.93478261 & 0.96551724 & 1.00000000 & 1.0000000\\\\\n",
       "\t 0.96296296 & 0.89473684 & 1.00000000 & 1.0000000\\\\\n",
       "\t 1.00000000 & 1.00000000 & 1.00000000 & 0.9166667\\\\\n",
       "\t 1.00000000 & 0.83333333 & 1.00000000 & 1.0000000\\\\\n",
       "\t 1.00000000 & 0.93750000 & 0.96153846 & 0.9166667\\\\\n",
       "\t 0.91666667 & 1.00000000 & 1.00000000 & 0.8888889\\\\\n",
       "\\end{tabular}\n"
      ],
      "text/markdown": [
       "\n",
       "A matrix: 854 × 4 of type dbl\n",
       "\n",
       "| sample1 | sample2 | sample3 | sample4 |\n",
       "|---|---|---|---|\n",
       "| 0.58823529 | 0.8048048 | 0.8888889 | 0.8632911 |\n",
       "| 0.70588235 | 0.7568389 | 0.8750000 | 0.7493404 |\n",
       "| 0.97435897 | 0.9397590 | 1.0000000 | 0.9756098 |\n",
       "| 0.61764706 | 0.8738739 | 0.7826087 | 0.8918919 |\n",
       "| 0.76470588 | 0.9369369 | 0.6086957 | 0.7297297 |\n",
       "| 0.86764706 | 0.9819820 | 0.8181818 | 0.7837838 |\n",
       "| 0.82352941 | 0.7946429 | 0.6956522 | 0.6470588 |\n",
       "| 0.08955224 | 0.1250000 | 0.0000000 | 0.0000000 |\n",
       "| 0.92647059 | 0.8518519 | 0.9565217 | 0.8529412 |\n",
       "| 0.80952381 | 0.9666667 | 1.0000000 | 0.9230769 |\n",
       "| 0.57142857 | 0.9333333 | 0.3783784 | 0.4230769 |\n",
       "| 0.42857143 | 0.8833333 | 0.4102564 | 0.5769231 |\n",
       "| 0.46153846 | 0.8113208 | 0.2666667 | 0.4347826 |\n",
       "| 0.21428571 | 0.9024390 | 0.7600000 | 0.9047619 |\n",
       "| 0.92857143 | 1.0000000 | 0.9333333 | 0.9090909 |\n",
       "| 0.71428571 | 0.8292683 | 0.7142857 | 0.6363636 |\n",
       "| 0.28571429 | 0.1500000 | 0.0000000 | 0.0000000 |\n",
       "| 0.66666667 | 0.8048780 | 0.2666667 | 0.3181818 |\n",
       "| 0.07142857 | 0.4146341 | 0.1538462 | 0.3636364 |\n",
       "| 0.00000000 | 0.1500000 | 0.0000000 | 0.0000000 |\n",
       "| 0.72222222 | 0.9024390 | 0.9117647 | 1.0000000 |\n",
       "| 0.85714286 | 0.9000000 | 0.9393939 | 0.9285714 |\n",
       "| 0.29411765 | 0.5500000 | 1.0000000 | 0.7857143 |\n",
       "| 0.05405405 | 0.3809524 | 0.9186047 | 0.6250000 |\n",
       "| 0.31147541 | 0.6120690 | 0.7777778 | 0.8064516 |\n",
       "| 0.38636364 | 0.4915254 | 0.9423077 | 0.6750000 |\n",
       "| 0.46153846 | 0.5789474 | 0.9487179 | 0.8205128 |\n",
       "| 0.68000000 | 0.8961039 | 1.0000000 | 0.8974359 |\n",
       "| 1.00000000 | 0.9220779 | 1.0000000 | 0.9230769 |\n",
       "| 0.00000000 | 0.5154639 | 0.8813559 | 0.4516129 |\n",
       "| ⋮ | ⋮ | ⋮ | ⋮ |\n",
       "| 0.55855856 | 0.53125000 | 0.00000000 | 0.0000000 |\n",
       "| 0.31896552 | 0.64516129 | 0.06896552 | 0.0000000 |\n",
       "| 0.03603604 | 0.03571429 | 0.00000000 | 0.0000000 |\n",
       "| 0.14529915 | 0.64516129 | 0.13793103 | 0.0000000 |\n",
       "| 1.00000000 | 0.74285714 | 1.00000000 | 1.0000000 |\n",
       "| 0.85714286 | 0.88571429 | 1.00000000 | 0.8076923 |\n",
       "| 1.00000000 | 0.92187500 | 0.95238095 | 0.9583333 |\n",
       "| 1.00000000 | 0.79032258 | 0.94736842 | 0.8695652 |\n",
       "| 0.66666667 | 0.15384615 | 1.00000000 | 1.0000000 |\n",
       "| 0.61111111 | 0.30769231 | 0.86956522 | 1.0000000 |\n",
       "| 0.66666667 | 0.64864865 | 1.00000000 | 0.9444444 |\n",
       "| 0.57142857 | 0.88135593 | 0.98630137 | 0.9600000 |\n",
       "| 0.64285714 | 0.81355932 | 0.93150685 | 1.0000000 |\n",
       "| 0.66666667 | 0.82500000 | 0.97058824 | 1.0000000 |\n",
       "| 1.00000000 | 0.94871795 | 0.76470588 | 1.0000000 |\n",
       "| 0.43478261 | 0.91428571 | 0.85000000 | 1.0000000 |\n",
       "| 0.88000000 | 0.97619048 | 1.00000000 | 1.0000000 |\n",
       "| 1.00000000 | 0.90909091 | 1.00000000 | 0.9583333 |\n",
       "| 0.93333333 | 1.00000000 | 0.68421053 | 0.7647059 |\n",
       "| 0.95454545 | 0.96551724 | 1.00000000 | 1.0000000 |\n",
       "| 1.00000000 | 0.96428571 | 1.00000000 | 1.0000000 |\n",
       "| 1.00000000 | 1.00000000 | 0.95000000 | 1.0000000 |\n",
       "| 1.00000000 | 1.00000000 | 0.80952381 | 1.0000000 |\n",
       "| 1.00000000 | 0.96551724 | 1.00000000 | 1.0000000 |\n",
       "| 0.93478261 | 0.96551724 | 1.00000000 | 1.0000000 |\n",
       "| 0.96296296 | 0.89473684 | 1.00000000 | 1.0000000 |\n",
       "| 1.00000000 | 1.00000000 | 1.00000000 | 0.9166667 |\n",
       "| 1.00000000 | 0.83333333 | 1.00000000 | 1.0000000 |\n",
       "| 1.00000000 | 0.93750000 | 0.96153846 | 0.9166667 |\n",
       "| 0.91666667 | 1.00000000 | 1.00000000 | 0.8888889 |\n",
       "\n"
      ],
      "text/plain": [
       "      sample1    sample2    sample3    sample4  \n",
       " [1,] 0.58823529 0.8048048  0.8888889  0.8632911\n",
       " [2,] 0.70588235 0.7568389  0.8750000  0.7493404\n",
       " [3,] 0.97435897 0.9397590  1.0000000  0.9756098\n",
       " [4,] 0.61764706 0.8738739  0.7826087  0.8918919\n",
       " [5,] 0.76470588 0.9369369  0.6086957  0.7297297\n",
       " [6,] 0.86764706 0.9819820  0.8181818  0.7837838\n",
       " [7,] 0.82352941 0.7946429  0.6956522  0.6470588\n",
       " [8,] 0.08955224 0.1250000  0.0000000  0.0000000\n",
       " [9,] 0.92647059 0.8518519  0.9565217  0.8529412\n",
       "[10,] 0.80952381 0.9666667  1.0000000  0.9230769\n",
       "[11,] 0.57142857 0.9333333  0.3783784  0.4230769\n",
       "[12,] 0.42857143 0.8833333  0.4102564  0.5769231\n",
       "[13,] 0.46153846 0.8113208  0.2666667  0.4347826\n",
       "[14,] 0.21428571 0.9024390  0.7600000  0.9047619\n",
       "[15,] 0.92857143 1.0000000  0.9333333  0.9090909\n",
       "[16,] 0.71428571 0.8292683  0.7142857  0.6363636\n",
       "[17,] 0.28571429 0.1500000  0.0000000  0.0000000\n",
       "[18,] 0.66666667 0.8048780  0.2666667  0.3181818\n",
       "[19,] 0.07142857 0.4146341  0.1538462  0.3636364\n",
       "[20,] 0.00000000 0.1500000  0.0000000  0.0000000\n",
       "[21,] 0.72222222 0.9024390  0.9117647  1.0000000\n",
       "[22,] 0.85714286 0.9000000  0.9393939  0.9285714\n",
       "[23,] 0.29411765 0.5500000  1.0000000  0.7857143\n",
       "[24,] 0.05405405 0.3809524  0.9186047  0.6250000\n",
       "[25,] 0.31147541 0.6120690  0.7777778  0.8064516\n",
       "[26,] 0.38636364 0.4915254  0.9423077  0.6750000\n",
       "[27,] 0.46153846 0.5789474  0.9487179  0.8205128\n",
       "[28,] 0.68000000 0.8961039  1.0000000  0.8974359\n",
       "[29,] 1.00000000 0.9220779  1.0000000  0.9230769\n",
       "[30,] 0.00000000 0.5154639  0.8813559  0.4516129\n",
       "[31,] ⋮          ⋮          ⋮          ⋮        \n",
       "[32,] 0.55855856 0.53125000 0.00000000 0.0000000\n",
       "[33,] 0.31896552 0.64516129 0.06896552 0.0000000\n",
       "[34,] 0.03603604 0.03571429 0.00000000 0.0000000\n",
       "[35,] 0.14529915 0.64516129 0.13793103 0.0000000\n",
       "[36,] 1.00000000 0.74285714 1.00000000 1.0000000\n",
       "[37,] 0.85714286 0.88571429 1.00000000 0.8076923\n",
       "[38,] 1.00000000 0.92187500 0.95238095 0.9583333\n",
       "[39,] 1.00000000 0.79032258 0.94736842 0.8695652\n",
       "[40,] 0.66666667 0.15384615 1.00000000 1.0000000\n",
       "[41,] 0.61111111 0.30769231 0.86956522 1.0000000\n",
       "[42,] 0.66666667 0.64864865 1.00000000 0.9444444\n",
       "[43,] 0.57142857 0.88135593 0.98630137 0.9600000\n",
       "[44,] 0.64285714 0.81355932 0.93150685 1.0000000\n",
       "[45,] 0.66666667 0.82500000 0.97058824 1.0000000\n",
       "[46,] 1.00000000 0.94871795 0.76470588 1.0000000\n",
       "[47,] 0.43478261 0.91428571 0.85000000 1.0000000\n",
       "[48,] 0.88000000 0.97619048 1.00000000 1.0000000\n",
       "[49,] 1.00000000 0.90909091 1.00000000 0.9583333\n",
       "[50,] 0.93333333 1.00000000 0.68421053 0.7647059\n",
       "[51,] 0.95454545 0.96551724 1.00000000 1.0000000\n",
       "[52,] 1.00000000 0.96428571 1.00000000 1.0000000\n",
       "[53,] 1.00000000 1.00000000 0.95000000 1.0000000\n",
       "[54,] 1.00000000 1.00000000 0.80952381 1.0000000\n",
       "[55,] 1.00000000 0.96551724 1.00000000 1.0000000\n",
       "[56,] 0.93478261 0.96551724 1.00000000 1.0000000\n",
       "[57,] 0.96296296 0.89473684 1.00000000 1.0000000\n",
       "[58,] 1.00000000 1.00000000 1.00000000 0.9166667\n",
       "[59,] 1.00000000 0.83333333 1.00000000 1.0000000\n",
       "[60,] 1.00000000 0.93750000 0.96153846 0.9166667\n",
       "[61,] 0.91666667 1.00000000 1.00000000 0.8888889"
      ]
     },
     "metadata": {},
     "output_type": "display_data"
    }
   ],
   "source": [
    "meth_fraction"
   ]
  },
  {
   "cell_type": "markdown",
   "id": "0641d06b-a9b5-4818-bf0a-8c2587af4275",
   "metadata": {},
   "source": [
    "3. Compute the M-values for each locus and sample. M-value is calculated\n",
    "as\n",
    "M = logit \u0012\n",
    "ymeth + 1\n",
    "ytotal + 2\u0013\n",
    ", (1)\n",
    "where ymeth is the number of methylated reads and ytotal is the number\n",
    "of total reads. The above transformation adds pseudocounts to the read\n",
    "counts to avoid exact zeros and ones which would result to ±∞ in the logit\n",
    "transformation: +1 is added to both methylated and unmethylated reads\n",
    "(+2 added to total reads). Plot a histogram of M-values for each sample.\n",
    "Comment on the distribution (tasks 1, 2 and 3, 0.5 point altogether).\n"
   ]
  },
  {
   "cell_type": "code",
   "execution_count": 5,
   "id": "d9d45694-901e-45d7-b8a9-023983860567",
   "metadata": {
    "tags": []
   },
   "outputs": [
    {
     "data": {
      "image/png": "[encoded data removed]",
      "text/plain": [
       "Plot with title “Sample 4”"
      ]
     },
     "metadata": {
      "image/png": {
       "height": 420,
       "width": 420
      }
     },
     "output_type": "display_data"
    }
   ],
   "source": [
    "#generate a histogram plot of the M-values\n",
    "#XXX\n",
    "\n",
    "logit <- function(p) {\n",
    "  log(p / (1 - p))\n",
    "}\n",
    " \n",
    "# Calculate M-values\n",
    "adjusted_meth_reads <- meth_reads + 1\n",
    "adjusted_total_reads <- total_reads + 2\n",
    "\n",
    "# Compute M-values\n",
    "m_values <- logit(((meth_reads +1) / (total_reads +2)))\n",
    "\n",
    "\n",
    "#pdf(\"m-values.pdf\")\n",
    "par(mar = c(2, 2, 2, 2))\n",
    "par(mfrow = c(2, 2))\n",
    "for (i in 1:ncol(m_values)) {\n",
    "  hist(m_values[, i], main = paste(\"Sample\", i), xlab = \"M-value\")\n",
    "}\n",
    "#dev.off()\n"
   ]
  },
  {
   "cell_type": "code",
   "execution_count": 6,
   "id": "c0f9e6d4-2dc2-470a-b991-89528e7cedff",
   "metadata": {
    "tags": []
   },
   "outputs": [
    {
     "data": {
      "text/html": [
       "<table class=\"dataframe\">\n",
       "<caption>A matrix: 6 × 4 of type dbl</caption>\n",
       "<thead>\n",
       "\t<tr><th scope=col>sample1</th><th scope=col>sample2</th><th scope=col>sample3</th><th scope=col>sample4</th></tr>\n",
       "</thead>\n",
       "<tbody>\n",
       "\t<tr><td>0.3184537</td><td>1.405057</td><td>1.7346011</td><td>1.8274776</td></tr>\n",
       "\t<tr><td>0.7731899</td><td>1.127012</td><td>1.6094379</td><td>1.0881410</td></tr>\n",
       "\t<tr><td>2.9704145</td><td>2.577688</td><td>4.4308168</td><td>3.0204249</td></tr>\n",
       "\t<tr><td>0.4653632</td><td>1.876917</td><td>1.1526795</td><td>1.9169226</td></tr>\n",
       "\t<tr><td>1.1370786</td><td>2.574519</td><td>0.4054651</td><td>0.9343092</td></tr>\n",
       "\t<tr><td>1.7917595</td><td>3.601868</td><td>1.3350011</td><td>1.2039728</td></tr>\n",
       "</tbody>\n",
       "</table>\n"
      ],
      "text/latex": [
       "A matrix: 6 × 4 of type dbl\n",
       "\\begin{tabular}{llll}\n",
       " sample1 & sample2 & sample3 & sample4\\\\\n",
       "\\hline\n",
       "\t 0.3184537 & 1.405057 & 1.7346011 & 1.8274776\\\\\n",
       "\t 0.7731899 & 1.127012 & 1.6094379 & 1.0881410\\\\\n",
       "\t 2.9704145 & 2.577688 & 4.4308168 & 3.0204249\\\\\n",
       "\t 0.4653632 & 1.876917 & 1.1526795 & 1.9169226\\\\\n",
       "\t 1.1370786 & 2.574519 & 0.4054651 & 0.9343092\\\\\n",
       "\t 1.7917595 & 3.601868 & 1.3350011 & 1.2039728\\\\\n",
       "\\end{tabular}\n"
      ],
      "text/markdown": [
       "\n",
       "A matrix: 6 × 4 of type dbl\n",
       "\n",
       "| sample1 | sample2 | sample3 | sample4 |\n",
       "|---|---|---|---|\n",
       "| 0.3184537 | 1.405057 | 1.7346011 | 1.8274776 |\n",
       "| 0.7731899 | 1.127012 | 1.6094379 | 1.0881410 |\n",
       "| 2.9704145 | 2.577688 | 4.4308168 | 3.0204249 |\n",
       "| 0.4653632 | 1.876917 | 1.1526795 | 1.9169226 |\n",
       "| 1.1370786 | 2.574519 | 0.4054651 | 0.9343092 |\n",
       "| 1.7917595 | 3.601868 | 1.3350011 | 1.2039728 |\n",
       "\n"
      ],
      "text/plain": [
       "     sample1   sample2  sample3   sample4  \n",
       "[1,] 0.3184537 1.405057 1.7346011 1.8274776\n",
       "[2,] 0.7731899 1.127012 1.6094379 1.0881410\n",
       "[3,] 2.9704145 2.577688 4.4308168 3.0204249\n",
       "[4,] 0.4653632 1.876917 1.1526795 1.9169226\n",
       "[5,] 1.1370786 2.574519 0.4054651 0.9343092\n",
       "[6,] 1.7917595 3.601868 1.3350011 1.2039728"
      ]
     },
     "metadata": {},
     "output_type": "display_data"
    }
   ],
   "source": [
    "head(m_values)"
   ]
  },
  {
   "cell_type": "markdown",
   "id": "71024a09-61a1-4cb0-9dbb-01c5b5a4d6a5",
   "metadata": {},
   "source": [
    "4. Assume that the M-values can be approximated by a normal distribution and identify the differentially methylated loci (DML) between treatment and control groups using limma. limma implements the so-called\n",
    "moderated t-test that shares information between genes for more robust\n",
    "variance estimation. Use the information in the colData object to construct the design matrix, and check that the design matrix includes the\n",
    "intercept term. Adjust p-values for multiple testing using BenjaminiHochberg procedure and count the number of loci with FDR < 0.05 (2\n",
    "points). (Useful functions: lmFit, eBayes)."
   ]
  },
  {
   "cell_type": "code",
   "execution_count": 7,
   "id": "aee5e6bb-68de-4128-b6bf-e148a263b97d",
   "metadata": {
    "tags": []
   },
   "outputs": [
    {
     "data": {
      "text/html": [
       "45"
      ],
      "text/latex": [
       "45"
      ],
      "text/markdown": [
       "45"
      ],
      "text/plain": [
       "[1] 45"
      ]
     },
     "metadata": {},
     "output_type": "display_data"
    }
   ],
   "source": [
    "# assume the distribution of the methylation fractions can be approximated \n",
    "#by a normal distribution and identify candidate differentially methylated \n",
    "#loci (DML) using the limma package for linear models. \n",
    "#Fit a linear model and perform moderated t-test. (functions: lmFit, eBayes).  \n",
    "#Construt design matrix with the intercept term\n",
    "group <- factor(colData(rrbs2)$group)  \n",
    "d <- model.matrix(~ group)\n",
    "fit <- lmFit(m_values, d)\n",
    "eb <- eBayes(fit)\n",
    "\n",
    "\n",
    "# adjust p-values for multiple testing using Benjamini-Hochberg method \n",
    "#and determine the number of loci with adjusted p-value < 0.05\n",
    "fdr1 <- p.adjust(eb$p.value[, \"grouptreatment\"], method = \"BH\")\n",
    "\n",
    "dml_count <- sum(fdr1 < 0.05)\n",
    "dml_count"
   ]
  },
  {
   "cell_type": "code",
   "execution_count": 8,
   "id": "fe7d68f1-5427-42a4-84cb-0c0d90fbe32a",
   "metadata": {
    "tags": []
   },
   "outputs": [
    {
     "data": {
      "text/html": [
       "<table class=\"dataframe\">\n",
       "<caption>A matrix: 4 × 2 of type dbl</caption>\n",
       "<thead>\n",
       "\t<tr><th></th><th scope=col>(Intercept)</th><th scope=col>grouptreatment</th></tr>\n",
       "</thead>\n",
       "<tbody>\n",
       "\t<tr><th scope=row>1</th><td>1</td><td>1</td></tr>\n",
       "\t<tr><th scope=row>2</th><td>1</td><td>1</td></tr>\n",
       "\t<tr><th scope=row>3</th><td>1</td><td>0</td></tr>\n",
       "\t<tr><th scope=row>4</th><td>1</td><td>0</td></tr>\n",
       "</tbody>\n",
       "</table>\n"
      ],
      "text/latex": [
       "A matrix: 4 × 2 of type dbl\n",
       "\\begin{tabular}{r|ll}\n",
       "  & (Intercept) & grouptreatment\\\\\n",
       "\\hline\n",
       "\t1 & 1 & 1\\\\\n",
       "\t2 & 1 & 1\\\\\n",
       "\t3 & 1 & 0\\\\\n",
       "\t4 & 1 & 0\\\\\n",
       "\\end{tabular}\n"
      ],
      "text/markdown": [
       "\n",
       "A matrix: 4 × 2 of type dbl\n",
       "\n",
       "| <!--/--> | (Intercept) | grouptreatment |\n",
       "|---|---|---|\n",
       "| 1 | 1 | 1 |\n",
       "| 2 | 1 | 1 |\n",
       "| 3 | 1 | 0 |\n",
       "| 4 | 1 | 0 |\n",
       "\n"
      ],
      "text/plain": [
       "  (Intercept) grouptreatment\n",
       "1 1           1             \n",
       "2 1           1             \n",
       "3 1           0             \n",
       "4 1           0             "
      ]
     },
     "metadata": {},
     "output_type": "display_data"
    }
   ],
   "source": [
    "d"
   ]
  },
  {
   "cell_type": "markdown",
   "id": "2c1c0546-d82e-4540-bdfd-98adbef31b52",
   "metadata": {},
   "source": [
    "5. Analyze the data using beta-binomial model. For this task you will use the aodml function from the aods3 package. Add pseudocounts\n",
    "to the methylated and total number of reads before learning the model. (Note that adding pseudocounts is not necessary for this model in general\n",
    "but numerical optimization can occasionally fail without these counts, if ymeth = 0 or ymeth = ytotal for all samples.) Learn 1) the full model and 2)\n",
    "the reduced model without the test factor. Note that the required data\n",
    " input to aodml function is a data frame. Check the template code for\n",
    "further help with the function (2 points).\n"
   ]
  },
  {
   "cell_type": "code",
   "execution_count": 9,
   "id": "d2b64ee1-c945-414f-85e0-8da2cb7093af",
   "metadata": {
    "tags": []
   },
   "outputs": [
    {
     "data": {
      "text/html": [
       "854"
      ],
      "text/latex": [
       "854"
      ],
      "text/markdown": [
       "854"
      ],
      "text/plain": [
       "[1] 854"
      ]
     },
     "metadata": {},
     "output_type": "display_data"
    }
   ],
   "source": [
    "nrow(rrbs2)"
   ]
  },
  {
   "cell_type": "code",
   "execution_count": 10,
   "id": "987a3a70-5537-4462-ad87-fe85b66aaafe",
   "metadata": {
    "collapsed": true,
    "jupyter": {
     "outputs_hidden": true
    },
    "tags": []
   },
   "outputs": [
    {
     "name": "stderr",
     "output_type": "stream",
     "text": [
      "Warning message in aodml(cbind(m, n - m) ~ ., data = df, family = \"bb\", link = \"logit\", :\n",
      "“The hessian matrix was singular.\n",
      "”\n",
      "Warning message in lbeta(a, b):\n",
      "“NaNs produced”\n",
      "Warning message in lbeta(a + m, b + n - m):\n",
      "“NaNs produced”\n",
      "Warning message in lbeta(a, b):\n",
      "“NaNs produced”\n",
      "Warning message in lbeta(a + m, b + n - m):\n",
      "“NaNs produced”\n",
      "Warning message in lbeta(a, b):\n",
      "“NaNs produced”\n",
      "Warning message in lbeta(a + m, b + n - m):\n",
      "“NaNs produced”\n",
      "Warning message in lbeta(a, b):\n",
      "“NaNs produced”\n",
      "Warning message in lbeta(a + m, b + n - m):\n",
      "“NaNs produced”\n",
      "Warning message in lbeta(a, b):\n",
      "“NaNs produced”\n",
      "Warning message in lbeta(a + m, b + n - m):\n",
      "“NaNs produced”\n",
      "Warning message in lbeta(a, b):\n",
      "“NaNs produced”\n",
      "Warning message in lbeta(a, b):\n",
      "“NaNs produced”\n",
      "Warning message in lbeta(a + m, b + n - m):\n",
      "“NaNs produced”\n",
      "Warning message in lbeta(a, b):\n",
      "“NaNs produced”\n",
      "Warning message in lbeta(a + m, b + n - m):\n",
      "“NaNs produced”\n",
      "Warning message in lbeta(a, b):\n",
      "“NaNs produced”\n",
      "Warning message in lbeta(a + m, b + n - m):\n",
      "“NaNs produced”\n",
      "Warning message in lbeta(a, b):\n",
      "“NaNs produced”\n",
      "Warning message in lbeta(a + m, b + n - m):\n",
      "“NaNs produced”\n",
      "Warning message in lbeta(a, b):\n",
      "“NaNs produced”\n",
      "Warning message in lbeta(a + m, b + n - m):\n",
      "“NaNs produced”\n",
      "Warning message in lbeta(a, b):\n",
      "“NaNs produced”\n",
      "Warning message in lbeta(a + m, b + n - m):\n",
      "“NaNs produced”\n",
      "Warning message in lbeta(a, b):\n",
      "“NaNs produced”\n",
      "Warning message in lbeta(a + m, b + n - m):\n",
      "“NaNs produced”\n",
      "Warning message in lbeta(a, b):\n",
      "“NaNs produced”\n",
      "Warning message in lbeta(a + m, b + n - m):\n",
      "“NaNs produced”\n",
      "Warning message in lbeta(a, b):\n",
      "“NaNs produced”\n",
      "Warning message in lbeta(a + m, b + n - m):\n",
      "“NaNs produced”\n",
      "Warning message in lbeta(a, b):\n",
      "“NaNs produced”\n",
      "Warning message in lbeta(a + m, b + n - m):\n",
      "“NaNs produced”\n",
      "Warning message in lbeta(a, b):\n",
      "“NaNs produced”\n",
      "Warning message in lbeta(a + m, b + n - m):\n",
      "“NaNs produced”\n",
      "Warning message in lbeta(a, b):\n",
      "“NaNs produced”\n",
      "Warning message in lbeta(a + m, b + n - m):\n",
      "“NaNs produced”\n",
      "Warning message in lbeta(a, b):\n",
      "“NaNs produced”\n",
      "Warning message in aodml(cbind(m, n - m) ~ 1, data = df, family = \"bb\", link = \"logit\", :\n",
      "“The hessian matrix was singular.\n",
      "”\n",
      "Warning message in lbeta(a + m, b + n - m):\n",
      "“NaNs produced”\n",
      "Warning message in lbeta(a, b):\n",
      "“NaNs produced”\n",
      "Warning message in lbeta(a + m, b + n - m):\n",
      "“NaNs produced”\n",
      "Warning message in lbeta(a, b):\n",
      "“NaNs produced”\n",
      "Warning message in lbeta(a + m, b + n - m):\n",
      "“NaNs produced”\n",
      "Warning message in lbeta(a, b):\n",
      "“NaNs produced”\n",
      "Warning message in lbeta(a + m, b + n - m):\n",
      "“NaNs produced”\n",
      "Warning message in lbeta(a, b):\n",
      "“NaNs produced”\n",
      "Warning message in aodml(cbind(m, n - m) ~ 1, data = df, family = \"bb\", link = \"logit\", :\n",
      "“The hessian matrix was singular.\n",
      "”\n",
      "Warning message in lbeta(a + m, b + n - m):\n",
      "“NaNs produced”\n",
      "Warning message in lbeta(a, b):\n",
      "“NaNs produced”\n",
      "Warning message in lbeta(a + m, b + n - m):\n",
      "“NaNs produced”\n",
      "Warning message in lbeta(a, b):\n",
      "“NaNs produced”\n",
      "Warning message in lbeta(a + m, b + n - m):\n",
      "“NaNs produced”\n",
      "Warning message in lbeta(a, b):\n",
      "“NaNs produced”\n",
      "Warning message in aodml(cbind(m, n - m) ~ 1, data = df, family = \"bb\", link = \"logit\", :\n",
      "“The hessian matrix was singular.\n",
      "”\n",
      "Warning message in lbeta(a + m, b + n - m):\n",
      "“NaNs produced”\n",
      "Warning message in lbeta(a, b):\n",
      "“NaNs produced”\n",
      "Warning message in aodml(cbind(m, n - m) ~ 1, data = df, family = \"bb\", link = \"logit\", :\n",
      "“The hessian matrix was singular.\n",
      "”\n",
      "Warning message in aodml(cbind(m, n - m) ~ 1, data = df, family = \"bb\", link = \"logit\", :\n",
      "“The hessian matrix was singular.\n",
      "”\n",
      "Warning message in aodml(cbind(m, n - m) ~ 1, data = df, family = \"bb\", link = \"logit\", :\n",
      "“The hessian matrix was singular.\n",
      "”\n",
      "Warning message in aodml(cbind(m, n - m) ~ 1, data = df, family = \"bb\", link = \"logit\", :\n",
      "“The hessian matrix was singular.\n",
      "”\n",
      "Warning message in aodml(cbind(m, n - m) ~ 1, data = df, family = \"bb\", link = \"logit\", :\n",
      "“The hessian matrix was singular.\n",
      "”\n",
      "Warning message in lbeta(a + m, b + n - m):\n",
      "“NaNs produced”\n",
      "Warning message in lbeta(a, b):\n",
      "“NaNs produced”\n",
      "Warning message in lbeta(a + m, b + n - m):\n",
      "“NaNs produced”\n",
      "Warning message in lbeta(a, b):\n",
      "“NaNs produced”\n",
      "Warning message in lbeta(a + m, b + n - m):\n",
      "“NaNs produced”\n",
      "Warning message in lbeta(a, b):\n",
      "“NaNs produced”\n",
      "Warning message in lbeta(a + m, b + n - m):\n",
      "“NaNs produced”\n",
      "Warning message in lbeta(a, b):\n",
      "“NaNs produced”\n",
      "Warning message in lbeta(a + m, b + n - m):\n",
      "“NaNs produced”\n",
      "Warning message in lbeta(a, b):\n",
      "“NaNs produced”\n",
      "Warning message in lbeta(a + m, b + n - m):\n",
      "“NaNs produced”\n",
      "Warning message in lbeta(a, b):\n",
      "“NaNs produced”\n",
      "Warning message in aodml(cbind(m, n - m) ~ 1, data = df, family = \"bb\", link = \"logit\", :\n",
      "“The hessian matrix was singular.\n",
      "”\n",
      "Warning message in aodml(cbind(m, n - m) ~ 1, data = df, family = \"bb\", link = \"logit\", :\n",
      "“The hessian matrix was singular.\n",
      "”\n",
      "Warning message in aodml(cbind(m, n - m) ~ 1, data = df, family = \"bb\", link = \"logit\", :\n",
      "“The hessian matrix was singular.\n",
      "”\n",
      "Warning message in lbeta(a + m, b + n - m):\n",
      "“NaNs produced”\n",
      "Warning message in lbeta(a, b):\n",
      "“NaNs produced”\n",
      "Warning message in lbeta(a + m, b + n - m):\n",
      "“NaNs produced”\n",
      "Warning message in lbeta(a, b):\n",
      "“NaNs produced”\n",
      "Warning message in lbeta(a + m, b + n - m):\n",
      "“NaNs produced”\n",
      "Warning message in lbeta(a, b):\n",
      "“NaNs produced”\n",
      "Warning message in lbeta(a + m, b + n - m):\n",
      "“NaNs produced”\n",
      "Warning message in lbeta(a, b):\n",
      "“NaNs produced”\n",
      "Warning message in lbeta(a + m, b + n - m):\n",
      "“NaNs produced”\n",
      "Warning message in lbeta(a, b):\n",
      "“NaNs produced”\n",
      "Warning message in lbeta(a + m, b + n - m):\n",
      "“NaNs produced”\n",
      "Warning message in lbeta(a, b):\n",
      "“NaNs produced”\n",
      "Warning message in lbeta(a + m, b + n - m):\n",
      "“NaNs produced”\n",
      "Warning message in lbeta(a, b):\n",
      "“NaNs produced”\n",
      "Warning message in lbeta(a + m, b + n - m):\n",
      "“NaNs produced”\n",
      "Warning message in lbeta(a, b):\n",
      "“NaNs produced”\n",
      "Warning message in lbeta(a + m, b + n - m):\n",
      "“NaNs produced”\n",
      "Warning message in lbeta(a, b):\n",
      "“NaNs produced”\n"
     ]
    }
   ],
   "source": [
    "# Identify candidate DML using a beta-binomial model. \n",
    "# The data input to aodml() is a data frame structure \n",
    "#https://stat.ethz.ch/R-manual/R-devel/library/base/html/data.frame.html\n",
    "pvals<-c()\n",
    "# For each locus i...\n",
    "for (i in 1:nrow(rrbs2)) {\n",
    "  n <- totalReads(rrbs2)[i, ] +1 # Get the total cytosine coverage\n",
    "  #cat(\"n: \", n)\n",
    "  m <- methReads(rrbs2)[i, ] +1 # Get the methylated cytosine count\n",
    "  #cat(\"m: \", m)\n",
    "\n",
    "  # Create the data frame containing the variables n and m\n",
    "  df <- data.frame(n, m)\n",
    "  # Add the data in the design matrix to the data frame\n",
    "  df$case[rrbs2$group=='control']<-0\n",
    "  df$case[rrbs2$group=='treatment']<-1\n",
    "\n",
    "  # Learn the full model\n",
    "  fm <- aodml(cbind(m, n - m) ~ . , data = df, family = \"bb\",\n",
    "              link='logit',phi.scale='log',method='BFGS')  \n",
    "  \n",
    "  # Learn the reduced model, replace \"~ .\" by \"~ 1\", \n",
    "  #and use method='Nelder-Mead' instead of method='BFGS'.\n",
    "  rm <- aodml(cbind(m, n - m) ~ 1, data = df, family = \"bb\", link = 'logit', phi.scale = 'log', method = 'Nelder-Mead') # <- test without the covariate \"treatment group\"\n",
    "\n",
    "  # Calculate the log-likelihood ratio and compute the p-value \n",
    "  #based on the chi-squared test. Use lower.tail=F. \n",
    "  llr <- -2 * (rm$logL - fm$logL) \n",
    "  pvals[i] <- pchisq(llr, df = 1, lower.tail = FALSE)\n",
    "}\n"
   ]
  },
  {
   "cell_type": "markdown",
   "id": "5536a5ec-2ede-4f5a-9e64-f837a40d651e",
   "metadata": {
    "tags": []
   },
   "source": [
    "6. Compare the full and reduced models by computing the log-likelihood\n",
    "ratios and test for significance using the chi-squared test. Correct the\n",
    "p-values for multiple testing and count the loci with FDR< 0.05 (0.25\n",
    "point)."
   ]
  },
  {
   "cell_type": "code",
   "execution_count": 11,
   "id": "d2400948-3db6-4830-ab68-2a57c949c9c1",
   "metadata": {
    "tags": []
   },
   "outputs": [
    {
     "data": {
      "text/html": [
       "22"
      ],
      "text/latex": [
       "22"
      ],
      "text/markdown": [
       "22"
      ],
      "text/plain": [
       "[1] 22"
      ]
     },
     "metadata": {},
     "output_type": "display_data"
    }
   ],
   "source": [
    "# Correct p-values for multiple testing using BH method\n",
    "fdr2 <- p.adjust(pvals, method = \"BH\")\n",
    "\n",
    "dml_count2 <- sum(fdr2 < 0.05) # rehet H0: \"mean of methylation is the same batween groups\"\n",
    "dml_count2"
   ]
  },
  {
   "cell_type": "markdown",
   "id": "293a0ba9-1b58-4943-bf58-8585fac77e1c",
   "metadata": {},
   "source": [
    "7. Compare the DML obtained with limma and aodml. How many DML\n",
    "do you get from each method? How many DML are unique to each\n",
    "method? Comment on the possible sources of differences between the\n",
    "two methods (0.25 point)."
   ]
  },
  {
   "cell_type": "code",
   "execution_count": 45,
   "id": "6f026b02-b780-4e05-9917-0e86d3b4d1fc",
   "metadata": {
    "tags": []
   },
   "outputs": [
    {
     "name": "stdout",
     "output_type": "stream",
     "text": [
      "DMLs identified by Limma: 45 \n",
      "DMLs identified by aodml: 22 \n",
      "Unique DMLs to Limma: 32 \n",
      "Unique DMLs to aodml: 9 \n"
     ]
    }
   ],
   "source": [
    "# Compare the lists of candidate DML (adjusted p-value < 0.05) \n",
    "#obtained with limma and aodml. \n",
    "# 1) How many DML do you get from each method?\n",
    "dml_limma <- which(fdr1 < 0.05)\n",
    "dml_aodml <- which(fdr2 < 0.05)\n",
    "\n",
    "count_limma <- length(dml_limma)\n",
    "count_aodml <- length(dml_aodml)\n",
    "\n",
    "# 2) How many DML are unique to each method? \n",
    "unique_limma <- dml_limma[!dml_limma %in% dml_aodml]\n",
    "unique_aodml <- dml_aodml[!dml_aodml %in% dml_limma]\n",
    "\n",
    "count_unique_limma <- length(unique_limma)\n",
    "count_unique_aodml <- length(unique_aodml)\n",
    "\n",
    "cat(\"DMLs identified by Limma:\", count_limma, \"\\n\")\n",
    "cat(\"DMLs identified by aodml:\", count_aodml, \"\\n\")\n",
    "cat(\"Unique DMLs to Limma:\", count_unique_limma, \"\\n\")\n",
    "cat(\"Unique DMLs to aodml:\", count_unique_aodml, \"\\n\")\n",
    "# 3) Comment in the report on the possible sources of \n",
    "#differences between the two results."
   ]
  },
  {
   "cell_type": "code",
   "execution_count": 46,
   "id": "d04eb7d6-e8de-4e79-9bcb-850f18062649",
   "metadata": {
    "tags": []
   },
   "outputs": [
    {
     "data": {
      "text/html": [
       "<style>\n",
       ".list-inline {list-style: none; margin:0; padding: 0}\n",
       ".list-inline>li {display: inline-block}\n",
       ".list-inline>li:not(:last-child)::after {content: \"\\00b7\"; padding: 0 .5ex}\n",
       "</style>\n",
       "<ol class=list-inline><li>23</li><li>24</li><li>33</li><li>34</li><li>49</li><li>54</li><li>73</li><li>169</li><li>176</li><li>238</li><li>245</li><li>269</li><li>272</li><li>273</li><li>278</li><li>279</li><li>280</li><li>292</li><li>295</li><li>300</li><li>303</li><li>312</li><li>328</li><li>537</li><li>637</li><li>642</li><li>648</li><li>649</li><li>746</li><li>793</li><li>805</li><li>806</li><li>807</li><li>808</li><li>809</li><li>810</li><li>811</li><li>812</li><li>813</li><li>814</li><li>815</li><li>816</li><li>819</li><li>825</li><li>833</li></ol>\n"
      ],
      "text/latex": [
       "\\begin{enumerate*}\n",
       "\\item 23\n",
       "\\item 24\n",
       "\\item 33\n",
       "\\item 34\n",
       "\\item 49\n",
       "\\item 54\n",
       "\\item 73\n",
       "\\item 169\n",
       "\\item 176\n",
       "\\item 238\n",
       "\\item 245\n",
       "\\item 269\n",
       "\\item 272\n",
       "\\item 273\n",
       "\\item 278\n",
       "\\item 279\n",
       "\\item 280\n",
       "\\item 292\n",
       "\\item 295\n",
       "\\item 300\n",
       "\\item 303\n",
       "\\item 312\n",
       "\\item 328\n",
       "\\item 537\n",
       "\\item 637\n",
       "\\item 642\n",
       "\\item 648\n",
       "\\item 649\n",
       "\\item 746\n",
       "\\item 793\n",
       "\\item 805\n",
       "\\item 806\n",
       "\\item 807\n",
       "\\item 808\n",
       "\\item 809\n",
       "\\item 810\n",
       "\\item 811\n",
       "\\item 812\n",
       "\\item 813\n",
       "\\item 814\n",
       "\\item 815\n",
       "\\item 816\n",
       "\\item 819\n",
       "\\item 825\n",
       "\\item 833\n",
       "\\end{enumerate*}\n"
      ],
      "text/markdown": [
       "1. 23\n",
       "2. 24\n",
       "3. 33\n",
       "4. 34\n",
       "5. 49\n",
       "6. 54\n",
       "7. 73\n",
       "8. 169\n",
       "9. 176\n",
       "10. 238\n",
       "11. 245\n",
       "12. 269\n",
       "13. 272\n",
       "14. 273\n",
       "15. 278\n",
       "16. 279\n",
       "17. 280\n",
       "18. 292\n",
       "19. 295\n",
       "20. 300\n",
       "21. 303\n",
       "22. 312\n",
       "23. 328\n",
       "24. 537\n",
       "25. 637\n",
       "26. 642\n",
       "27. 648\n",
       "28. 649\n",
       "29. 746\n",
       "30. 793\n",
       "31. 805\n",
       "32. 806\n",
       "33. 807\n",
       "34. 808\n",
       "35. 809\n",
       "36. 810\n",
       "37. 811\n",
       "38. 812\n",
       "39. 813\n",
       "40. 814\n",
       "41. 815\n",
       "42. 816\n",
       "43. 819\n",
       "44. 825\n",
       "45. 833\n",
       "\n",
       "\n"
      ],
      "text/plain": [
       " [1]  23  24  33  34  49  54  73 169 176 238 245 269 272 273 278 279 280 292 295\n",
       "[20] 300 303 312 328 537 637 642 648 649 746 793 805 806 807 808 809 810 811 812\n",
       "[39] 813 814 815 816 819 825 833"
      ]
     },
     "metadata": {},
     "output_type": "display_data"
    }
   ],
   "source": [
    "dml_limma"
   ]
  },
  {
   "cell_type": "code",
   "execution_count": 47,
   "id": "0ad75dca-f5fc-40fe-b88c-7c2a14245555",
   "metadata": {
    "tags": []
   },
   "outputs": [
    {
     "data": {
      "text/html": [
       "<style>\n",
       ".list-inline {list-style: none; margin:0; padding: 0}\n",
       ".list-inline>li {display: inline-block}\n",
       ".list-inline>li:not(:last-child)::after {content: \"\\00b7\"; padding: 0 .5ex}\n",
       "</style>\n",
       "<ol class=list-inline><li>33</li><li>40</li><li>42</li><li>54</li><li>131</li><li>140</li><li>176</li><li>228</li><li>237</li><li>238</li><li>269</li><li>278</li><li>297</li><li>299</li><li>300</li><li>312</li><li>315</li><li>537</li><li>642</li><li>648</li><li>815</li><li>825</li></ol>\n"
      ],
      "text/latex": [
       "\\begin{enumerate*}\n",
       "\\item 33\n",
       "\\item 40\n",
       "\\item 42\n",
       "\\item 54\n",
       "\\item 131\n",
       "\\item 140\n",
       "\\item 176\n",
       "\\item 228\n",
       "\\item 237\n",
       "\\item 238\n",
       "\\item 269\n",
       "\\item 278\n",
       "\\item 297\n",
       "\\item 299\n",
       "\\item 300\n",
       "\\item 312\n",
       "\\item 315\n",
       "\\item 537\n",
       "\\item 642\n",
       "\\item 648\n",
       "\\item 815\n",
       "\\item 825\n",
       "\\end{enumerate*}\n"
      ],
      "text/markdown": [
       "1. 33\n",
       "2. 40\n",
       "3. 42\n",
       "4. 54\n",
       "5. 131\n",
       "6. 140\n",
       "7. 176\n",
       "8. 228\n",
       "9. 237\n",
       "10. 238\n",
       "11. 269\n",
       "12. 278\n",
       "13. 297\n",
       "14. 299\n",
       "15. 300\n",
       "16. 312\n",
       "17. 315\n",
       "18. 537\n",
       "19. 642\n",
       "20. 648\n",
       "21. 815\n",
       "22. 825\n",
       "\n",
       "\n"
      ],
      "text/plain": [
       " [1]  33  40  42  54 131 140 176 228 237 238 269 278 297 299 300 312 315 537 642\n",
       "[20] 648 815 825"
      ]
     },
     "metadata": {},
     "output_type": "display_data"
    }
   ],
   "source": [
    "dml_aodml"
   ]
  },
  {
   "cell_type": "code",
   "execution_count": null,
   "id": "ca4cfc73-1c75-49a0-9f0d-24cce335fb71",
   "metadata": {},
   "outputs": [],
   "source": []
  }
 ],
 "metadata": {
  "kernelspec": {
   "display_name": "R",
   "language": "R",
   "name": "ir"
  },
  "language_info": {
   "codemirror_mode": "r",
   "file_extension": ".r",
   "mimetype": "text/x-r-source",
   "name": "R",
   "pygments_lexer": "r",
   "version": "4.3.1"
  }
 },
 "nbformat": 4,
 "nbformat_minor": 5
}
